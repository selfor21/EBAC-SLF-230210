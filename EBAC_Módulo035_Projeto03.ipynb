{
  "nbformat": 4,
  "nbformat_minor": 0,
  "metadata": {
    "colab": {
      "provenance": [],
      "collapsed_sections": [
        "mWPDcWOQHqJg",
        "J-JDd9I8IRy0",
        "uCYJfcHmIS1A",
        "i6rqMs2EITAB",
        "eKYCp6LYITH0"
      ],
      "authorship_tag": "ABX9TyPVdTfOrE0coBr2re0ENIEu",
      "include_colab_link": true
    },
    "kernelspec": {
      "name": "python3",
      "display_name": "Python 3"
    },
    "language_info": {
      "name": "python"
    }
  },
  "cells": [
    {
      "cell_type": "markdown",
      "metadata": {
        "id": "view-in-github",
        "colab_type": "text"
      },
      "source": [
        "<a href=\"https://colab.research.google.com/github/selfor21/EBAC-SLF-230210/blob/main/EBAC_M%C3%B3dulo035_Projeto03.ipynb\" target=\"_parent\"><img src=\"https://colab.research.google.com/assets/colab-badge.svg\" alt=\"Open In Colab\"/></a>"
      ]
    },
    {
      "cell_type": "markdown",
      "source": [
        "# **Exploração e análise de dados de crédito com SQL**"
      ],
      "metadata": {
        "id": "rGBPaTPiHb87"
      }
    },
    {
      "cell_type": "markdown",
      "source": [
        "*Projeto 03 do Curso Análise Dados da EBAC. 02/04/2023 *"
      ],
      "metadata": {
        "id": "0f8klLGVHeQC"
      }
    },
    {
      "cell_type": "markdown",
      "source": [
        "## 1- Os dados: ##\n",
        "\n",
        "Fornecido arquivo credito8.csv\n",
        "Os dados contem as seguintes colunas e qualificam os clientes de um banco para receber crédito: \n",
        "\n",
        "* idade = idade do cliente\n",
        "* sexo = sexo do cliente (F ou M)\n",
        "* dependentes = número de dependentes do cliente\n",
        "* escolaridade = nível de escolaridade do clientes\n",
        "* estado civil = (casado, divorciado ou solteiro)\n",
        "* salario_anual = faixa salarial do cliente\n",
        "* tipo_cartao = tipo de cartao do cliente\n",
        "* qtd_produtos = quantidade de produtos comprados nos últimos 12 meses\n",
        "* iteracoes_12m = quantidade de iterações/transacoes nos ultimos 12 meses\n",
        "* meses_inativo_12m = quantidade de meses que o cliente ficou inativo\n",
        "* limite_credito = limite de credito do cliente\n",
        "* valor_transacoes_12m = valor das transações dos ultimos 12 meses\n",
        "* qtd_transacoes_12m  = quantidade de transacoes dos ultimos 12 meses\n",
        "\n",
        "A tabela foi criada no **AWS Athena** junto com o **S3 Bucket** com os dados disponibilizados no arquivo credito8.csv que é uma versão dos dados disponibilizados em: https://github.com/andre-marcos-perez/ebac-course-utils/tree/main/dataset\n"
      ],
      "metadata": {
        "id": "mWPDcWOQHqJg"
      }
    },
    {
      "cell_type": "markdown",
      "source": [
        "## 2- Exploração de dados: ##"
      ],
      "metadata": {
        "id": "1RzH03sLHzlN"
      }
    },
    {
      "cell_type": "markdown",
      "source": [
        "Na fase de exploração de dados, vamos buscar entender os dados disponíveis em relação ao seu tamanho, tipos de dados e valores para cada atributo."
      ],
      "metadata": {
        "id": "iSjN5Qo2H5kq"
      }
    },
    {
      "cell_type": "markdown",
      "source": [
        "### 2.1- Cabeçalho e 05 linhas do arquivo ###\n",
        "###SELECT * FROM credito LIMIT 5###\n",
        "Resultado no arquivo query_01.csv"
      ],
      "metadata": {
        "id": "J-JDd9I8IRy0"
      }
    },
    {
      "cell_type": "markdown",
      "source": [
        "### 2.2- Quais os tipos de dados ###\n",
        "### DESCRIBE credito ###\n",
        "\n",
        "> idade               \tint                 \t                    \n",
        "> sexo                \tstring              \t                    \n",
        "> dependentes         \tint                 \t                    \n",
        "> escolaridade        \tstring              \t                    \n",
        "> estado_civil        \tstring              \t                    \n",
        "> salario_anual       \tstring              \t                    \n",
        "> tipo_cartao         \tstring              \t                    \n",
        "> qtd_produtos        \tbigint              \t                    \n",
        "> iteracoes_12m       \tint                 \t                    \n",
        "> meses_inativo_12m   \tint                 \t                    \n",
        "> limite_credito      \tfloat               \t                    \n",
        "> valor_transacoes_12m\tfloat               \t                    \n",
        "> qtd_transacoes_12m  \tint     "
      ],
      "metadata": {
        "id": "uCYJfcHmIS1A"
      }
    },
    {
      "cell_type": "markdown",
      "source": [
        "### 2.3- Quantidade de Linhas ###\n",
        "### select count(*) from credito ###\n",
        "\t\n",
        "2564"
      ],
      "metadata": {
        "id": "i6rqMs2EITAB"
      }
    },
    {
      "cell_type": "markdown",
      "source": [
        "### 2.4- Avaliando valores para o atributo escolaridade ###\n",
        "### SELECT DISTINCT escolaridade FROM credito ###\n",
        "\n",
        "> 1                   \tna              \t                    \n",
        "> 2              \t      ensino medio              \t                    \n",
        "> 3                   \tsem educacao formal              \t                    \n",
        "> 4                    \tmestrado               \t                    \n",
        "> 5                     graduacao\n",
        "\n",
        "> 6                   \tdoutorado     \n",
        "\n",
        "Podemos observar que temos valor nulo neste atributo (na)."
      ],
      "metadata": {
        "id": "eKYCp6LYITH0"
      }
    },
    {
      "cell_type": "markdown",
      "source": [
        "### 2.5- Avaliando valores para o atributo estado_civil ###\n",
        "### SELECT DISTINCT estado_civil FROM credito ###\n",
        "# estado_civil\n",
        "\n",
        "> 1                \tdivorciado                 \t                    \n",
        "> 2                \tsolteiro              \t                    \n",
        "> 3                \tna                 \t                    \n",
        "> 4               \tcasado     \n",
        "\n",
        "Temos o valor nulo para este atritubo.\n"
      ],
      "metadata": {
        "id": "NjI4_hpPLLyx"
      }
    },
    {
      "cell_type": "markdown",
      "source": [
        "### 2.6- Avaliando valores para o atributo tipo_cartao ###\n",
        "### SELECT DISTINCT tipo_cartao FROM credito\n",
        "\n",
        "> 1                \tblue                 \t                    \n",
        "> 2                \tgold              \t                    \n",
        "> 3                \tsilver                 \t                    \n",
        "> 4               \tplatinum\n",
        "\n",
        "Não temos valores nulo para este atributo.\n"
      ],
      "metadata": {
        "id": "s1Qa0ctXLL7y"
      }
    },
    {
      "cell_type": "markdown",
      "source": [
        "### 2.7- Avaliando valores para o atributo salario_anual ###\n",
        "### SELECT DISTINCT salario_anual FROM credito ###\n",
        "\n",
        "### salario_anual\n",
        "### 1 $80K - $120K\n",
        "### 2\t$60K - $80K\n",
        "### 3\t$40K - $60K\n",
        "### 4 $120K +\n",
        "\n",
        "### 5\tmenos que $40K\n",
        "### 6\tna\n",
        "\n",
        "\n"
      ],
      "metadata": {
        "id": "W4aDrqSXLMDV"
      }
    },
    {
      "cell_type": "markdown",
      "source": [
        "## 3- Análise de dados: ##\n",
        "Através da análise dos dados, vamos pesquisar padrões, insights ou tendências que auxiliem e melhorem a qualidade das decisões.\n",
        "Podemos agrupar, classificar e associar atributos, buscando encontrar significados nestes dados.\n",
        "Podemos fazer isto, respondendo perguntas formuladas.\n"
      ],
      "metadata": {
        "id": "81ZEPo3jLMHl"
      }
    },
    {
      "cell_type": "markdown",
      "source": [
        "### 3.1- Qual a distribuição de clientes por faixa salarial? ###\n",
        "### select count(*), salario_anual from credito group by salario_anual ###\n",
        "\n",
        "\n",
        "### _col0    salario_anual\n",
        "* 701      menos que $40K\n",
        "\n",
        "* 467      $40K - $60K\n",
        "\n",
        "* 451      $60K - $80K\n",
        "\n",
        "* 488      $80K - $120K\n",
        "\n",
        "* 222      $120K +\n",
        "* 235      na\n",
        "\n",
        "Dos valores acima, notamos que a maior concentração de clientes esta na menor faixa salarial. Temos 235 valores nulos e a menor concentração esta nos clientes de maior faixa salarial.\n",
        "\n",
        "\n"
      ],
      "metadata": {
        "id": "r8ZFZW9MLMLB"
      }
    },
    {
      "cell_type": "markdown",
      "source": [
        "### 3.2- Qual perfir dos clientes com maior limite de crédito? ###\n",
        "### select max(limite_credito) as limite_credito, escolaridade, tipo_cartao, sexo from credito where escolaridade != 'na' and tipo_cartao != 'na' group by escolaridade, tipo_cartao, sexo order by limite_credito desc limit 10 ###\n",
        "\n",
        "# limite_credito escolaridade tipo_cartao sexo\n",
        "* 1\t34516.99 sem educacao formal blue M\n",
        "\n",
        "* 2\t34516.98 mestrado gold M\n",
        "\n",
        "* 3\t34516.97 mestrado blue M\n",
        "\n",
        "* 4 34516.96 doutorado platinum F\n",
        "\n",
        "* 5\t34516.96 sem educacao formal silver M\n",
        "\n",
        "* 6 34516.95 ensino medio gold M\n",
        "\n",
        "* 7\t34516.94 graduacao gold F\n",
        "\n",
        "* 8\t34516.94 graduacao gold M\n",
        "\n",
        "* 9\t34516.89 graduacao silver M\n",
        "\n",
        "* 10 34516.74 ensino medio blue M\n",
        "\n",
        "Dentre os 10 maiores limites, encontramos todos os tipos de cartões e tambem todos os níveis de escolaridade. Portanto, não podemos encontrar uma relação direta entre estes atributos. Predominância do sexo Masculino com 08 eventos em 10."
      ],
      "metadata": {
        "id": "wlOZZhpkNpj_"
      }
    },
    {
      "cell_type": "markdown",
      "source": [
        "### 3.3 - Existe diferença nos valores por sexo? ###\n",
        "### select max(valor_transacoes_12m) as maior_valor_gasto, avg (valor_transacoes_12m) as  media_valor_gasto, min(valor_transacoes_12m) as min_valor_gasto, sexo from credito group by sexo ###\n",
        "\n",
        "\n",
        "# maior_valor_gasto media_valor_gasto min_valor_gasto sexo\n",
        "* 1\t4686.93 1807.968 530.36 M\n",
        "\n",
        "* 2\t4776.58 1839.6226 510.16 F\n",
        "\n",
        "Pelos resultados obtidos, os valores gastos não apresentam diferenças significativas quando olhados sob o ponto de vista do sexo."
      ],
      "metadata": {
        "id": "W1yrpgyucezR"
      }
    },
    {
      "cell_type": "markdown",
      "source": [
        "### 3.4 - Existe diferença nos valores por escolaridade? ###\n",
        "### select max(valor_transacoes_12m) as maior_valor_gasto, avg (valor_transacoes_12m) as  media_valor_gasto, min(valor_transacoes_12m) as min_valor_gasto, escolaridade from credito group by escolaridade ###\n",
        "\n",
        "# maior_valor_gasto media_valor_gasto min_valor_gasto escolaridade\n",
        "\n",
        "* 1\t4642.78 1824.6119 569.87 mestrado\n",
        "\n",
        "* 2\t4686.93 1862.2415 510.16 graduacao\n",
        "\n",
        "* 3\t4776.58 1828.6593 647.1 doutorado\n",
        "\n",
        "* 4\t4563.5 1790.1471 594.41 ensino medio\n",
        "\n",
        "* 5\t4740.94 1819.9061 683.34 sem educacao formal\n",
        "\n",
        "* 6\t4291.31 1820.9967 615.02 na\n",
        "\n",
        "Contrariando o que se pode esperar, os valores são similares para os diferentes níveis de escolaridade."
      ],
      "metadata": {
        "id": "7UhdRRzSdHL6"
      }
    },
    {
      "cell_type": "markdown",
      "source": [],
      "metadata": {
        "id": "Ho9GvZZXdG_C"
      }
    },
    {
      "cell_type": "markdown",
      "source": [],
      "metadata": {
        "id": "reFEd2nbdHIK"
      }
    }
  ]
}