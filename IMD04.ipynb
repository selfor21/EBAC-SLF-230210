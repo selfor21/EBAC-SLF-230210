{
  "nbformat": 4,
  "nbformat_minor": 0,
  "metadata": {
    "colab": {
      "provenance": [],
      "authorship_tag": "ABX9TyM8heoEnaetgWbefOv4cfdD",
      "include_colab_link": true
    },
    "kernelspec": {
      "name": "python3",
      "display_name": "Python 3"
    },
    "language_info": {
      "name": "python"
    }
  },
  "cells": [
    {
      "cell_type": "markdown",
      "metadata": {
        "id": "view-in-github",
        "colab_type": "text"
      },
      "source": [
        "<a href=\"https://colab.research.google.com/github/selfor21/EBAC-SLF-230210/blob/main/IMD04.ipynb\" target=\"_parent\"><img src=\"https://colab.research.google.com/assets/colab-badge.svg\" alt=\"Open In Colab\"/></a>"
      ]
    },
    {
      "cell_type": "markdown",
      "source": [
        "#KAGGLE - INTERMERDIATE MACHINE LEARNING - EXERCÍCIO 04"
      ],
      "metadata": {
        "id": "N1rqwteB7rJa"
      }
    },
    {
      "cell_type": "markdown",
      "source": [
        "Introduction\n",
        "In this exercise, you’ll learn how to improve training outcomes by including an early stopping callback to prevent overfitting.\n",
        "\n",
        "When you're ready, run this next cell to set everything up!"
      ],
      "metadata": {
        "id": "PP7Xkabl9OCb"
      }
    },
    {
      "cell_type": "code",
      "source": [
        "# Setup plotting\n",
        "import matplotlib.pyplot as plt\n",
        "plt.style.use('seaborn-whitegrid')\n",
        "# Set Matplotlib defaults\n",
        "plt.rc('figure', autolayout=True)\n",
        "plt.rc('axes', labelweight='bold', labelsize='large',\n",
        "       titleweight='bold', titlesize=18, titlepad=10)\n",
        "plt.rc('animation', html='html5')"
      ],
      "metadata": {
        "colab": {
          "base_uri": "https://localhost:8080/"
        },
        "id": "ABh2Qovd8xxh",
        "outputId": "1ffa8095-f352-43e4-9275-219afac008cc"
      },
      "execution_count": 2,
      "outputs": [
        {
          "output_type": "stream",
          "name": "stderr",
          "text": [
            "<ipython-input-2-d57511d72f78>:3: MatplotlibDeprecationWarning: The seaborn styles shipped by Matplotlib are deprecated since 3.6, as they no longer correspond to the styles shipped by seaborn. However, they will remain available as 'seaborn-v0_8-<style>'. Alternatively, directly use the seaborn API instead.\n",
            "  plt.style.use('seaborn-whitegrid')\n"
          ]
        }
      ]
    },
    {
      "cell_type": "markdown",
      "source": [
        "First load the *Spotify* dataset. Your task will be to predict the popularity of a song based on various audio features, like `'tempo'`, `'danceability'`, and `'mode'`."
      ],
      "metadata": {
        "id": "G8iNFlKN9b4U"
      }
    },
    {
      "cell_type": "code",
      "execution_count": 5,
      "metadata": {
        "id": "cH2kxK4c7qaj"
      },
      "outputs": [],
      "source": [
        "import pandas as pd\n",
        "from sklearn.preprocessing import StandardScaler, OneHotEncoder\n",
        "from sklearn.compose import make_column_transformer\n",
        "from sklearn.model_selection import GroupShuffleSplit\n",
        "\n",
        "from tensorflow import keras\n",
        "from tensorflow.keras import layers\n",
        "from tensorflow.keras import callbacks\n",
        "\n",
        "spotify = pd.read_csv('spotify.csv')\n"
      ]
    },
    {
      "cell_type": "code",
      "source": [
        "spotify.shape"
      ],
      "metadata": {
        "colab": {
          "base_uri": "https://localhost:8080/"
        },
        "id": "MFZeX5IxGgNF",
        "outputId": "aaf2d7e0-8bc1-469f-e09e-8022b813050e"
      },
      "execution_count": 6,
      "outputs": [
        {
          "output_type": "execute_result",
          "data": {
            "text/plain": [
              "(32833, 23)"
            ]
          },
          "metadata": {},
          "execution_count": 6
        }
      ]
    },
    {
      "cell_type": "code",
      "source": [
        "spotify.head(1).T"
      ],
      "metadata": {
        "colab": {
          "base_uri": "https://localhost:8080/",
          "height": 770
        },
        "id": "w_OSCSt6GgWh",
        "outputId": "ea2625d5-35ab-4f18-e63f-e1d1ea1e7b6a"
      },
      "execution_count": 12,
      "outputs": [
        {
          "output_type": "execute_result",
          "data": {
            "text/plain": [
              "                                                                          0\n",
              "track_id                                             6f807x0ima9a1j3VPbc7VN\n",
              "track_name                I Don't Care (with Justin Bieber) - Loud Luxur...\n",
              "track_artist                                                     Ed Sheeran\n",
              "track_popularity                                                         66\n",
              "track_album_id                                       2oCs0DGTsRO98Gh5ZSl2Cx\n",
              "track_album_name          I Don't Care (with Justin Bieber) [Loud Luxury...\n",
              "track_album_release_date                                         2019-06-14\n",
              "playlist_name                                                     Pop Remix\n",
              "playlist_id                                          37i9dQZF1DXcZDD7cfEKhW\n",
              "playlist_genre                                                          pop\n",
              "playlist_subgenre                                                 dance pop\n",
              "danceability                                                          0.748\n",
              "energy                                                                0.916\n",
              "key                                                                       6\n",
              "loudness                                                             -2.634\n",
              "mode                                                                      1\n",
              "speechiness                                                          0.0583\n",
              "acousticness                                                          0.102\n",
              "instrumentalness                                                        0.0\n",
              "liveness                                                             0.0653\n",
              "valence                                                               0.518\n",
              "tempo                                                               122.036\n",
              "duration_ms                                                          194754"
            ],
            "text/html": [
              "\n",
              "  <div id=\"df-613a6886-a1c4-49b2-a630-d9b6a8da961b\">\n",
              "    <div class=\"colab-df-container\">\n",
              "      <div>\n",
              "<style scoped>\n",
              "    .dataframe tbody tr th:only-of-type {\n",
              "        vertical-align: middle;\n",
              "    }\n",
              "\n",
              "    .dataframe tbody tr th {\n",
              "        vertical-align: top;\n",
              "    }\n",
              "\n",
              "    .dataframe thead th {\n",
              "        text-align: right;\n",
              "    }\n",
              "</style>\n",
              "<table border=\"1\" class=\"dataframe\">\n",
              "  <thead>\n",
              "    <tr style=\"text-align: right;\">\n",
              "      <th></th>\n",
              "      <th>0</th>\n",
              "    </tr>\n",
              "  </thead>\n",
              "  <tbody>\n",
              "    <tr>\n",
              "      <th>track_id</th>\n",
              "      <td>6f807x0ima9a1j3VPbc7VN</td>\n",
              "    </tr>\n",
              "    <tr>\n",
              "      <th>track_name</th>\n",
              "      <td>I Don't Care (with Justin Bieber) - Loud Luxur...</td>\n",
              "    </tr>\n",
              "    <tr>\n",
              "      <th>track_artist</th>\n",
              "      <td>Ed Sheeran</td>\n",
              "    </tr>\n",
              "    <tr>\n",
              "      <th>track_popularity</th>\n",
              "      <td>66</td>\n",
              "    </tr>\n",
              "    <tr>\n",
              "      <th>track_album_id</th>\n",
              "      <td>2oCs0DGTsRO98Gh5ZSl2Cx</td>\n",
              "    </tr>\n",
              "    <tr>\n",
              "      <th>track_album_name</th>\n",
              "      <td>I Don't Care (with Justin Bieber) [Loud Luxury...</td>\n",
              "    </tr>\n",
              "    <tr>\n",
              "      <th>track_album_release_date</th>\n",
              "      <td>2019-06-14</td>\n",
              "    </tr>\n",
              "    <tr>\n",
              "      <th>playlist_name</th>\n",
              "      <td>Pop Remix</td>\n",
              "    </tr>\n",
              "    <tr>\n",
              "      <th>playlist_id</th>\n",
              "      <td>37i9dQZF1DXcZDD7cfEKhW</td>\n",
              "    </tr>\n",
              "    <tr>\n",
              "      <th>playlist_genre</th>\n",
              "      <td>pop</td>\n",
              "    </tr>\n",
              "    <tr>\n",
              "      <th>playlist_subgenre</th>\n",
              "      <td>dance pop</td>\n",
              "    </tr>\n",
              "    <tr>\n",
              "      <th>danceability</th>\n",
              "      <td>0.748</td>\n",
              "    </tr>\n",
              "    <tr>\n",
              "      <th>energy</th>\n",
              "      <td>0.916</td>\n",
              "    </tr>\n",
              "    <tr>\n",
              "      <th>key</th>\n",
              "      <td>6</td>\n",
              "    </tr>\n",
              "    <tr>\n",
              "      <th>loudness</th>\n",
              "      <td>-2.634</td>\n",
              "    </tr>\n",
              "    <tr>\n",
              "      <th>mode</th>\n",
              "      <td>1</td>\n",
              "    </tr>\n",
              "    <tr>\n",
              "      <th>speechiness</th>\n",
              "      <td>0.0583</td>\n",
              "    </tr>\n",
              "    <tr>\n",
              "      <th>acousticness</th>\n",
              "      <td>0.102</td>\n",
              "    </tr>\n",
              "    <tr>\n",
              "      <th>instrumentalness</th>\n",
              "      <td>0.0</td>\n",
              "    </tr>\n",
              "    <tr>\n",
              "      <th>liveness</th>\n",
              "      <td>0.0653</td>\n",
              "    </tr>\n",
              "    <tr>\n",
              "      <th>valence</th>\n",
              "      <td>0.518</td>\n",
              "    </tr>\n",
              "    <tr>\n",
              "      <th>tempo</th>\n",
              "      <td>122.036</td>\n",
              "    </tr>\n",
              "    <tr>\n",
              "      <th>duration_ms</th>\n",
              "      <td>194754</td>\n",
              "    </tr>\n",
              "  </tbody>\n",
              "</table>\n",
              "</div>\n",
              "      <button class=\"colab-df-convert\" onclick=\"convertToInteractive('df-613a6886-a1c4-49b2-a630-d9b6a8da961b')\"\n",
              "              title=\"Convert this dataframe to an interactive table.\"\n",
              "              style=\"display:none;\">\n",
              "        \n",
              "  <svg xmlns=\"http://www.w3.org/2000/svg\" height=\"24px\"viewBox=\"0 0 24 24\"\n",
              "       width=\"24px\">\n",
              "    <path d=\"M0 0h24v24H0V0z\" fill=\"none\"/>\n",
              "    <path d=\"M18.56 5.44l.94 2.06.94-2.06 2.06-.94-2.06-.94-.94-2.06-.94 2.06-2.06.94zm-11 1L8.5 8.5l.94-2.06 2.06-.94-2.06-.94L8.5 2.5l-.94 2.06-2.06.94zm10 10l.94 2.06.94-2.06 2.06-.94-2.06-.94-.94-2.06-.94 2.06-2.06.94z\"/><path d=\"M17.41 7.96l-1.37-1.37c-.4-.4-.92-.59-1.43-.59-.52 0-1.04.2-1.43.59L10.3 9.45l-7.72 7.72c-.78.78-.78 2.05 0 2.83L4 21.41c.39.39.9.59 1.41.59.51 0 1.02-.2 1.41-.59l7.78-7.78 2.81-2.81c.8-.78.8-2.07 0-2.86zM5.41 20L4 18.59l7.72-7.72 1.47 1.35L5.41 20z\"/>\n",
              "  </svg>\n",
              "      </button>\n",
              "      \n",
              "  <style>\n",
              "    .colab-df-container {\n",
              "      display:flex;\n",
              "      flex-wrap:wrap;\n",
              "      gap: 12px;\n",
              "    }\n",
              "\n",
              "    .colab-df-convert {\n",
              "      background-color: #E8F0FE;\n",
              "      border: none;\n",
              "      border-radius: 50%;\n",
              "      cursor: pointer;\n",
              "      display: none;\n",
              "      fill: #1967D2;\n",
              "      height: 32px;\n",
              "      padding: 0 0 0 0;\n",
              "      width: 32px;\n",
              "    }\n",
              "\n",
              "    .colab-df-convert:hover {\n",
              "      background-color: #E2EBFA;\n",
              "      box-shadow: 0px 1px 2px rgba(60, 64, 67, 0.3), 0px 1px 3px 1px rgba(60, 64, 67, 0.15);\n",
              "      fill: #174EA6;\n",
              "    }\n",
              "\n",
              "    [theme=dark] .colab-df-convert {\n",
              "      background-color: #3B4455;\n",
              "      fill: #D2E3FC;\n",
              "    }\n",
              "\n",
              "    [theme=dark] .colab-df-convert:hover {\n",
              "      background-color: #434B5C;\n",
              "      box-shadow: 0px 1px 3px 1px rgba(0, 0, 0, 0.15);\n",
              "      filter: drop-shadow(0px 1px 2px rgba(0, 0, 0, 0.3));\n",
              "      fill: #FFFFFF;\n",
              "    }\n",
              "  </style>\n",
              "\n",
              "      <script>\n",
              "        const buttonEl =\n",
              "          document.querySelector('#df-613a6886-a1c4-49b2-a630-d9b6a8da961b button.colab-df-convert');\n",
              "        buttonEl.style.display =\n",
              "          google.colab.kernel.accessAllowed ? 'block' : 'none';\n",
              "\n",
              "        async function convertToInteractive(key) {\n",
              "          const element = document.querySelector('#df-613a6886-a1c4-49b2-a630-d9b6a8da961b');\n",
              "          const dataTable =\n",
              "            await google.colab.kernel.invokeFunction('convertToInteractive',\n",
              "                                                     [key], {});\n",
              "          if (!dataTable) return;\n",
              "\n",
              "          const docLinkHtml = 'Like what you see? Visit the ' +\n",
              "            '<a target=\"_blank\" href=https://colab.research.google.com/notebooks/data_table.ipynb>data table notebook</a>'\n",
              "            + ' to learn more about interactive tables.';\n",
              "          element.innerHTML = '';\n",
              "          dataTable['output_type'] = 'display_data';\n",
              "          await google.colab.output.renderOutput(dataTable, element);\n",
              "          const docLink = document.createElement('div');\n",
              "          docLink.innerHTML = docLinkHtml;\n",
              "          element.appendChild(docLink);\n",
              "        }\n",
              "      </script>\n",
              "    </div>\n",
              "  </div>\n",
              "  "
            ]
          },
          "metadata": {},
          "execution_count": 12
        }
      ]
    },
    {
      "cell_type": "code",
      "source": [
        "spotify.describe()"
      ],
      "metadata": {
        "colab": {
          "base_uri": "https://localhost:8080/",
          "height": 364
        },
        "id": "_ny9aGCtGoEB",
        "outputId": "103c0b30-06cf-4d00-f58a-68be12159c7e"
      },
      "execution_count": 11,
      "outputs": [
        {
          "output_type": "execute_result",
          "data": {
            "text/plain": [
              "       track_popularity  danceability        energy           key  \\\n",
              "count      32833.000000  32833.000000  32833.000000  32833.000000   \n",
              "mean          42.477081      0.654850      0.698619      5.374471   \n",
              "std           24.984074      0.145085      0.180910      3.611657   \n",
              "min            0.000000      0.000000      0.000175      0.000000   \n",
              "25%           24.000000      0.563000      0.581000      2.000000   \n",
              "50%           45.000000      0.672000      0.721000      6.000000   \n",
              "75%           62.000000      0.761000      0.840000      9.000000   \n",
              "max          100.000000      0.983000      1.000000     11.000000   \n",
              "\n",
              "           loudness          mode   speechiness  acousticness  \\\n",
              "count  32833.000000  32833.000000  32833.000000  32833.000000   \n",
              "mean      -6.719499      0.565711      0.107068      0.175334   \n",
              "std        2.988436      0.495671      0.101314      0.219633   \n",
              "min      -46.448000      0.000000      0.000000      0.000000   \n",
              "25%       -8.171000      0.000000      0.041000      0.015100   \n",
              "50%       -6.166000      1.000000      0.062500      0.080400   \n",
              "75%       -4.645000      1.000000      0.132000      0.255000   \n",
              "max        1.275000      1.000000      0.918000      0.994000   \n",
              "\n",
              "       instrumentalness      liveness       valence         tempo  \\\n",
              "count      32833.000000  32833.000000  32833.000000  32833.000000   \n",
              "mean           0.084747      0.190176      0.510561    120.881132   \n",
              "std            0.224230      0.154317      0.233146     26.903624   \n",
              "min            0.000000      0.000000      0.000000      0.000000   \n",
              "25%            0.000000      0.092700      0.331000     99.960000   \n",
              "50%            0.000016      0.127000      0.512000    121.984000   \n",
              "75%            0.004830      0.248000      0.693000    133.918000   \n",
              "max            0.994000      0.996000      0.991000    239.440000   \n",
              "\n",
              "         duration_ms  \n",
              "count   32833.000000  \n",
              "mean   225799.811622  \n",
              "std     59834.006182  \n",
              "min      4000.000000  \n",
              "25%    187819.000000  \n",
              "50%    216000.000000  \n",
              "75%    253585.000000  \n",
              "max    517810.000000  "
            ],
            "text/html": [
              "\n",
              "  <div id=\"df-0a065469-0d7d-4c99-96ba-d87ab2bc2f60\">\n",
              "    <div class=\"colab-df-container\">\n",
              "      <div>\n",
              "<style scoped>\n",
              "    .dataframe tbody tr th:only-of-type {\n",
              "        vertical-align: middle;\n",
              "    }\n",
              "\n",
              "    .dataframe tbody tr th {\n",
              "        vertical-align: top;\n",
              "    }\n",
              "\n",
              "    .dataframe thead th {\n",
              "        text-align: right;\n",
              "    }\n",
              "</style>\n",
              "<table border=\"1\" class=\"dataframe\">\n",
              "  <thead>\n",
              "    <tr style=\"text-align: right;\">\n",
              "      <th></th>\n",
              "      <th>track_popularity</th>\n",
              "      <th>danceability</th>\n",
              "      <th>energy</th>\n",
              "      <th>key</th>\n",
              "      <th>loudness</th>\n",
              "      <th>mode</th>\n",
              "      <th>speechiness</th>\n",
              "      <th>acousticness</th>\n",
              "      <th>instrumentalness</th>\n",
              "      <th>liveness</th>\n",
              "      <th>valence</th>\n",
              "      <th>tempo</th>\n",
              "      <th>duration_ms</th>\n",
              "    </tr>\n",
              "  </thead>\n",
              "  <tbody>\n",
              "    <tr>\n",
              "      <th>count</th>\n",
              "      <td>32833.000000</td>\n",
              "      <td>32833.000000</td>\n",
              "      <td>32833.000000</td>\n",
              "      <td>32833.000000</td>\n",
              "      <td>32833.000000</td>\n",
              "      <td>32833.000000</td>\n",
              "      <td>32833.000000</td>\n",
              "      <td>32833.000000</td>\n",
              "      <td>32833.000000</td>\n",
              "      <td>32833.000000</td>\n",
              "      <td>32833.000000</td>\n",
              "      <td>32833.000000</td>\n",
              "      <td>32833.000000</td>\n",
              "    </tr>\n",
              "    <tr>\n",
              "      <th>mean</th>\n",
              "      <td>42.477081</td>\n",
              "      <td>0.654850</td>\n",
              "      <td>0.698619</td>\n",
              "      <td>5.374471</td>\n",
              "      <td>-6.719499</td>\n",
              "      <td>0.565711</td>\n",
              "      <td>0.107068</td>\n",
              "      <td>0.175334</td>\n",
              "      <td>0.084747</td>\n",
              "      <td>0.190176</td>\n",
              "      <td>0.510561</td>\n",
              "      <td>120.881132</td>\n",
              "      <td>225799.811622</td>\n",
              "    </tr>\n",
              "    <tr>\n",
              "      <th>std</th>\n",
              "      <td>24.984074</td>\n",
              "      <td>0.145085</td>\n",
              "      <td>0.180910</td>\n",
              "      <td>3.611657</td>\n",
              "      <td>2.988436</td>\n",
              "      <td>0.495671</td>\n",
              "      <td>0.101314</td>\n",
              "      <td>0.219633</td>\n",
              "      <td>0.224230</td>\n",
              "      <td>0.154317</td>\n",
              "      <td>0.233146</td>\n",
              "      <td>26.903624</td>\n",
              "      <td>59834.006182</td>\n",
              "    </tr>\n",
              "    <tr>\n",
              "      <th>min</th>\n",
              "      <td>0.000000</td>\n",
              "      <td>0.000000</td>\n",
              "      <td>0.000175</td>\n",
              "      <td>0.000000</td>\n",
              "      <td>-46.448000</td>\n",
              "      <td>0.000000</td>\n",
              "      <td>0.000000</td>\n",
              "      <td>0.000000</td>\n",
              "      <td>0.000000</td>\n",
              "      <td>0.000000</td>\n",
              "      <td>0.000000</td>\n",
              "      <td>0.000000</td>\n",
              "      <td>4000.000000</td>\n",
              "    </tr>\n",
              "    <tr>\n",
              "      <th>25%</th>\n",
              "      <td>24.000000</td>\n",
              "      <td>0.563000</td>\n",
              "      <td>0.581000</td>\n",
              "      <td>2.000000</td>\n",
              "      <td>-8.171000</td>\n",
              "      <td>0.000000</td>\n",
              "      <td>0.041000</td>\n",
              "      <td>0.015100</td>\n",
              "      <td>0.000000</td>\n",
              "      <td>0.092700</td>\n",
              "      <td>0.331000</td>\n",
              "      <td>99.960000</td>\n",
              "      <td>187819.000000</td>\n",
              "    </tr>\n",
              "    <tr>\n",
              "      <th>50%</th>\n",
              "      <td>45.000000</td>\n",
              "      <td>0.672000</td>\n",
              "      <td>0.721000</td>\n",
              "      <td>6.000000</td>\n",
              "      <td>-6.166000</td>\n",
              "      <td>1.000000</td>\n",
              "      <td>0.062500</td>\n",
              "      <td>0.080400</td>\n",
              "      <td>0.000016</td>\n",
              "      <td>0.127000</td>\n",
              "      <td>0.512000</td>\n",
              "      <td>121.984000</td>\n",
              "      <td>216000.000000</td>\n",
              "    </tr>\n",
              "    <tr>\n",
              "      <th>75%</th>\n",
              "      <td>62.000000</td>\n",
              "      <td>0.761000</td>\n",
              "      <td>0.840000</td>\n",
              "      <td>9.000000</td>\n",
              "      <td>-4.645000</td>\n",
              "      <td>1.000000</td>\n",
              "      <td>0.132000</td>\n",
              "      <td>0.255000</td>\n",
              "      <td>0.004830</td>\n",
              "      <td>0.248000</td>\n",
              "      <td>0.693000</td>\n",
              "      <td>133.918000</td>\n",
              "      <td>253585.000000</td>\n",
              "    </tr>\n",
              "    <tr>\n",
              "      <th>max</th>\n",
              "      <td>100.000000</td>\n",
              "      <td>0.983000</td>\n",
              "      <td>1.000000</td>\n",
              "      <td>11.000000</td>\n",
              "      <td>1.275000</td>\n",
              "      <td>1.000000</td>\n",
              "      <td>0.918000</td>\n",
              "      <td>0.994000</td>\n",
              "      <td>0.994000</td>\n",
              "      <td>0.996000</td>\n",
              "      <td>0.991000</td>\n",
              "      <td>239.440000</td>\n",
              "      <td>517810.000000</td>\n",
              "    </tr>\n",
              "  </tbody>\n",
              "</table>\n",
              "</div>\n",
              "      <button class=\"colab-df-convert\" onclick=\"convertToInteractive('df-0a065469-0d7d-4c99-96ba-d87ab2bc2f60')\"\n",
              "              title=\"Convert this dataframe to an interactive table.\"\n",
              "              style=\"display:none;\">\n",
              "        \n",
              "  <svg xmlns=\"http://www.w3.org/2000/svg\" height=\"24px\"viewBox=\"0 0 24 24\"\n",
              "       width=\"24px\">\n",
              "    <path d=\"M0 0h24v24H0V0z\" fill=\"none\"/>\n",
              "    <path d=\"M18.56 5.44l.94 2.06.94-2.06 2.06-.94-2.06-.94-.94-2.06-.94 2.06-2.06.94zm-11 1L8.5 8.5l.94-2.06 2.06-.94-2.06-.94L8.5 2.5l-.94 2.06-2.06.94zm10 10l.94 2.06.94-2.06 2.06-.94-2.06-.94-.94-2.06-.94 2.06-2.06.94z\"/><path d=\"M17.41 7.96l-1.37-1.37c-.4-.4-.92-.59-1.43-.59-.52 0-1.04.2-1.43.59L10.3 9.45l-7.72 7.72c-.78.78-.78 2.05 0 2.83L4 21.41c.39.39.9.59 1.41.59.51 0 1.02-.2 1.41-.59l7.78-7.78 2.81-2.81c.8-.78.8-2.07 0-2.86zM5.41 20L4 18.59l7.72-7.72 1.47 1.35L5.41 20z\"/>\n",
              "  </svg>\n",
              "      </button>\n",
              "      \n",
              "  <style>\n",
              "    .colab-df-container {\n",
              "      display:flex;\n",
              "      flex-wrap:wrap;\n",
              "      gap: 12px;\n",
              "    }\n",
              "\n",
              "    .colab-df-convert {\n",
              "      background-color: #E8F0FE;\n",
              "      border: none;\n",
              "      border-radius: 50%;\n",
              "      cursor: pointer;\n",
              "      display: none;\n",
              "      fill: #1967D2;\n",
              "      height: 32px;\n",
              "      padding: 0 0 0 0;\n",
              "      width: 32px;\n",
              "    }\n",
              "\n",
              "    .colab-df-convert:hover {\n",
              "      background-color: #E2EBFA;\n",
              "      box-shadow: 0px 1px 2px rgba(60, 64, 67, 0.3), 0px 1px 3px 1px rgba(60, 64, 67, 0.15);\n",
              "      fill: #174EA6;\n",
              "    }\n",
              "\n",
              "    [theme=dark] .colab-df-convert {\n",
              "      background-color: #3B4455;\n",
              "      fill: #D2E3FC;\n",
              "    }\n",
              "\n",
              "    [theme=dark] .colab-df-convert:hover {\n",
              "      background-color: #434B5C;\n",
              "      box-shadow: 0px 1px 3px 1px rgba(0, 0, 0, 0.15);\n",
              "      filter: drop-shadow(0px 1px 2px rgba(0, 0, 0, 0.3));\n",
              "      fill: #FFFFFF;\n",
              "    }\n",
              "  </style>\n",
              "\n",
              "      <script>\n",
              "        const buttonEl =\n",
              "          document.querySelector('#df-0a065469-0d7d-4c99-96ba-d87ab2bc2f60 button.colab-df-convert');\n",
              "        buttonEl.style.display =\n",
              "          google.colab.kernel.accessAllowed ? 'block' : 'none';\n",
              "\n",
              "        async function convertToInteractive(key) {\n",
              "          const element = document.querySelector('#df-0a065469-0d7d-4c99-96ba-d87ab2bc2f60');\n",
              "          const dataTable =\n",
              "            await google.colab.kernel.invokeFunction('convertToInteractive',\n",
              "                                                     [key], {});\n",
              "          if (!dataTable) return;\n",
              "\n",
              "          const docLinkHtml = 'Like what you see? Visit the ' +\n",
              "            '<a target=\"_blank\" href=https://colab.research.google.com/notebooks/data_table.ipynb>data table notebook</a>'\n",
              "            + ' to learn more about interactive tables.';\n",
              "          element.innerHTML = '';\n",
              "          dataTable['output_type'] = 'display_data';\n",
              "          await google.colab.output.renderOutput(dataTable, element);\n",
              "          const docLink = document.createElement('div');\n",
              "          docLink.innerHTML = docLinkHtml;\n",
              "          element.appendChild(docLink);\n",
              "        }\n",
              "      </script>\n",
              "    </div>\n",
              "  </div>\n",
              "  "
            ]
          },
          "metadata": {},
          "execution_count": 11
        }
      ]
    },
    {
      "cell_type": "code",
      "source": [
        "spotify.info()"
      ],
      "metadata": {
        "colab": {
          "base_uri": "https://localhost:8080/"
        },
        "id": "bKPdUFL-HH6t",
        "outputId": "96894514-38f5-480c-a8eb-236013cfd049"
      },
      "execution_count": 14,
      "outputs": [
        {
          "output_type": "stream",
          "name": "stdout",
          "text": [
            "<class 'pandas.core.frame.DataFrame'>\n",
            "RangeIndex: 32833 entries, 0 to 32832\n",
            "Data columns (total 23 columns):\n",
            " #   Column                    Non-Null Count  Dtype  \n",
            "---  ------                    --------------  -----  \n",
            " 0   track_id                  32833 non-null  object \n",
            " 1   track_name                32828 non-null  object \n",
            " 2   track_artist              32828 non-null  object \n",
            " 3   track_popularity          32833 non-null  int64  \n",
            " 4   track_album_id            32833 non-null  object \n",
            " 5   track_album_name          32828 non-null  object \n",
            " 6   track_album_release_date  32833 non-null  object \n",
            " 7   playlist_name             32833 non-null  object \n",
            " 8   playlist_id               32833 non-null  object \n",
            " 9   playlist_genre            32833 non-null  object \n",
            " 10  playlist_subgenre         32833 non-null  object \n",
            " 11  danceability              32833 non-null  float64\n",
            " 12  energy                    32833 non-null  float64\n",
            " 13  key                       32833 non-null  int64  \n",
            " 14  loudness                  32833 non-null  float64\n",
            " 15  mode                      32833 non-null  int64  \n",
            " 16  speechiness               32833 non-null  float64\n",
            " 17  acousticness              32833 non-null  float64\n",
            " 18  instrumentalness          32833 non-null  float64\n",
            " 19  liveness                  32833 non-null  float64\n",
            " 20  valence                   32833 non-null  float64\n",
            " 21  tempo                     32833 non-null  float64\n",
            " 22  duration_ms               32833 non-null  int64  \n",
            "dtypes: float64(9), int64(4), object(10)\n",
            "memory usage: 5.8+ MB\n"
          ]
        }
      ]
    },
    {
      "cell_type": "code",
      "source": [
        "X = spotify.copy().dropna()\n",
        "y = X.pop('track_popularity')\n",
        "artists = X['track_artist']\n",
        "\n",
        "features_num = ['danceability', 'energy', 'key', 'loudness', 'mode',\n",
        "                'speechiness', 'acousticness', 'instrumentalness',\n",
        "                'liveness', 'valence', 'tempo', 'duration_ms']\n",
        "features_cat = ['playlist_genre']\n",
        "\n",
        "preprocessor = make_column_transformer(\n",
        "    (StandardScaler(), features_num),\n",
        "    (OneHotEncoder(), features_cat),\n",
        ")\n",
        "\n",
        "# We'll do a \"grouped\" split to keep all of an artist's songs in one\n",
        "# split or the other. This is to help prevent signal leakage.\n",
        "def group_split(X, y, group, train_size=0.75):\n",
        "    splitter = GroupShuffleSplit(train_size=train_size)\n",
        "    train, test = next(splitter.split(X, y, groups=group))\n",
        "    return (X.iloc[train], X.iloc[test], y.iloc[train], y.iloc[test])\n",
        "\n",
        "X_train, X_valid, y_train, y_valid = group_split(X, y, artists)\n",
        "\n",
        "X_train = preprocessor.fit_transform(X_train)\n",
        "X_valid = preprocessor.transform(X_valid)\n",
        "y_train = y_train / 100 # popularity is on a scale 0-100, so this rescales to 0-1.\n",
        "y_valid = y_valid / 100\n",
        "\n",
        "input_shape = [X_train.shape[1]]\n",
        "print(\"Input shape: {}\".format(input_shape))"
      ],
      "metadata": {
        "colab": {
          "base_uri": "https://localhost:8080/"
        },
        "id": "QfCrUbcaGZsJ",
        "outputId": "d3fb8e05-260d-40b0-bc8e-4f7964ed5925"
      },
      "execution_count": 15,
      "outputs": [
        {
          "output_type": "stream",
          "name": "stdout",
          "text": [
            "Input shape: [18]\n"
          ]
        }
      ]
    },
    {
      "cell_type": "markdown",
      "source": [
        "##Let's start with the simplest network, a linear model. This model has low capacity.\n",
        "\n",
        "Run this next cell without any changes to train a linear model on the Spotify dataset."
      ],
      "metadata": {
        "id": "y8vPEAl88DyV"
      }
    },
    {
      "cell_type": "code",
      "source": [
        "model = keras.Sequential([\n",
        "    layers.Dense(1, input_shape=input_shape),\n",
        "])\n",
        "model.compile(\n",
        "    optimizer='adam',\n",
        "    loss='mae',\n",
        ")\n",
        "history = model.fit(\n",
        "    X_train, y_train,\n",
        "    validation_data=(X_valid, y_valid),\n",
        "    batch_size=512,\n",
        "    epochs=50,\n",
        "    verbose=0, # suppress output since we'll plot the curves\n",
        ")\n",
        "history_df = pd.DataFrame(history.history)\n",
        "history_df.loc[0:, ['loss', 'val_loss']].plot()\n"
      ],
      "metadata": {
        "colab": {
          "base_uri": "https://localhost:8080/",
          "height": 505
        },
        "id": "dqSLumTA77AM",
        "outputId": "8812352a-e2e5-4ae5-cdf5-a8c61ab9619b"
      },
      "execution_count": 16,
      "outputs": [
        {
          "output_type": "execute_result",
          "data": {
            "text/plain": [
              "<Axes: >"
            ]
          },
          "metadata": {},
          "execution_count": 16
        },
        {
          "output_type": "display_data",
          "data": {
            "text/plain": [
              "<Figure size 640x480 with 1 Axes>"
            ],
            "image/png": "[encoded data removed]"
          },
          "metadata": {}
        }
      ]
    },
    {
      "cell_type": "markdown",
      "source": [
        "It's not uncommon for the curves to follow a \"hockey stick\" pattern like you see here. This makes the final part of training hard to see, so let's start at epoch 10 instead:"
      ],
      "metadata": {
        "id": "R6DMNb6V9oRb"
      }
    },
    {
      "cell_type": "code",
      "source": [
        "# Start the plot at epoch 10\n",
        "history_df.loc[10:, ['loss', 'val_loss']].plot()\n",
        "print(\"Minimum Validation Loss: {:0.4f}\".format(history_df['val_loss'].min()));"
      ],
      "metadata": {
        "colab": {
          "base_uri": "https://localhost:8080/",
          "height": 505
        },
        "id": "0EcqVGUM77p5",
        "outputId": "0d4402c3-950a-4899-a10d-b8999c7682b1"
      },
      "execution_count": 17,
      "outputs": [
        {
          "output_type": "stream",
          "name": "stdout",
          "text": [
            "Minimum Validation Loss: 0.1940\n"
          ]
        },
        {
          "output_type": "display_data",
          "data": {
            "text/plain": [
              "<Figure size 640x480 with 1 Axes>"
            ],
            "image/png": "[encoded data removed]"
          },
          "metadata": {}
        }
      ]
    },
    {
      "cell_type": "markdown",
      "source": [
        "##1) Evaluate Baseline\n",
        "> What do you think? Would you say this model is underfitting, overfitting, just right?"
      ],
      "metadata": {
        "id": "TGKUmrdB9vQ-"
      }
    },
    {
      "cell_type": "markdown",
      "source": [
        "Now let's add some capacity to our network. We'll add three hidden layers with 128 units each. Run the next cell to train the network and see the learning curves."
      ],
      "metadata": {
        "id": "d6-wOxmZ9962"
      }
    },
    {
      "cell_type": "code",
      "source": [
        "model = keras.Sequential([\n",
        "    layers.Dense(128, activation='relu', input_shape=input_shape),\n",
        "    layers.Dense(64, activation='relu'),\n",
        "    layers.Dense(1)\n",
        "])\n",
        "model.compile(\n",
        "    optimizer='adam',\n",
        "    loss='mae',\n",
        ")\n",
        "history = model.fit(\n",
        "    X_train, y_train,\n",
        "    validation_data=(X_valid, y_valid),\n",
        "    batch_size=512,\n",
        "    epochs=50,\n",
        ")\n",
        "history_df = pd.DataFrame(history.history)\n",
        "history_df.loc[:, ['loss', 'val_loss']].plot()\n",
        "print(\"Minimum Validation Loss: {:0.4f}\".format(history_df['val_loss'].min()));"
      ],
      "metadata": {
        "colab": {
          "base_uri": "https://localhost:8080/",
          "height": 1000
        },
        "id": "xaTBbyhb77tr",
        "outputId": "1f526338-e8b2-4dff-ae2f-a90ff46a56f4"
      },
      "execution_count": 18,
      "outputs": [
        {
          "output_type": "stream",
          "name": "stdout",
          "text": [
            "Epoch 1/50\n",
            "49/49 [==============================] - 1s 8ms/step - loss: 0.2392 - val_loss: 0.2057\n",
            "Epoch 2/50\n",
            "49/49 [==============================] - 0s 5ms/step - loss: 0.2014 - val_loss: 0.1987\n",
            "Epoch 3/50\n",
            "49/49 [==============================] - 0s 5ms/step - loss: 0.1968 - val_loss: 0.1963\n",
            "Epoch 4/50\n",
            "49/49 [==============================] - 0s 6ms/step - loss: 0.1938 - val_loss: 0.1963\n",
            "Epoch 5/50\n",
            "49/49 [==============================] - 0s 6ms/step - loss: 0.1925 - val_loss: 0.1959\n",
            "Epoch 6/50\n",
            "49/49 [==============================] - 0s 5ms/step - loss: 0.1909 - val_loss: 0.1966\n",
            "Epoch 7/50\n",
            "49/49 [==============================] - 0s 6ms/step - loss: 0.1894 - val_loss: 0.1945\n",
            "Epoch 8/50\n",
            "49/49 [==============================] - 0s 6ms/step - loss: 0.1881 - val_loss: 0.1937\n",
            "Epoch 9/50\n",
            "49/49 [==============================] - 0s 5ms/step - loss: 0.1871 - val_loss: 0.1955\n",
            "Epoch 10/50\n",
            "49/49 [==============================] - 0s 5ms/step - loss: 0.1857 - val_loss: 0.1942\n",
            "Epoch 11/50\n",
            "49/49 [==============================] - 0s 5ms/step - loss: 0.1847 - val_loss: 0.1946\n",
            "Epoch 12/50\n",
            "49/49 [==============================] - 0s 5ms/step - loss: 0.1842 - val_loss: 0.1966\n",
            "Epoch 13/50\n",
            "49/49 [==============================] - 0s 5ms/step - loss: 0.1838 - val_loss: 0.1947\n",
            "Epoch 14/50\n",
            "49/49 [==============================] - 0s 5ms/step - loss: 0.1832 - val_loss: 0.1952\n",
            "Epoch 15/50\n",
            "49/49 [==============================] - 0s 7ms/step - loss: 0.1819 - val_loss: 0.1951\n",
            "Epoch 16/50\n",
            "49/49 [==============================] - 0s 7ms/step - loss: 0.1822 - val_loss: 0.1959\n",
            "Epoch 17/50\n",
            "49/49 [==============================] - 0s 7ms/step - loss: 0.1809 - val_loss: 0.1946\n",
            "Epoch 18/50\n",
            "49/49 [==============================] - 0s 8ms/step - loss: 0.1804 - val_loss: 0.1972\n",
            "Epoch 19/50\n",
            "49/49 [==============================] - 0s 7ms/step - loss: 0.1802 - val_loss: 0.1957\n",
            "Epoch 20/50\n",
            "49/49 [==============================] - 0s 7ms/step - loss: 0.1788 - val_loss: 0.1955\n",
            "Epoch 21/50\n",
            "49/49 [==============================] - 0s 8ms/step - loss: 0.1785 - val_loss: 0.1971\n",
            "Epoch 22/50\n",
            "49/49 [==============================] - 0s 8ms/step - loss: 0.1783 - val_loss: 0.1967\n",
            "Epoch 23/50\n",
            "49/49 [==============================] - 0s 5ms/step - loss: 0.1777 - val_loss: 0.1966\n",
            "Epoch 24/50\n",
            "49/49 [==============================] - 0s 6ms/step - loss: 0.1776 - val_loss: 0.1979\n",
            "Epoch 25/50\n",
            "49/49 [==============================] - 0s 5ms/step - loss: 0.1766 - val_loss: 0.1967\n",
            "Epoch 26/50\n",
            "49/49 [==============================] - 0s 6ms/step - loss: 0.1759 - val_loss: 0.1974\n",
            "Epoch 27/50\n",
            "49/49 [==============================] - 0s 5ms/step - loss: 0.1750 - val_loss: 0.1969\n",
            "Epoch 28/50\n",
            "49/49 [==============================] - 0s 5ms/step - loss: 0.1752 - val_loss: 0.1960\n",
            "Epoch 29/50\n",
            "49/49 [==============================] - 0s 5ms/step - loss: 0.1755 - val_loss: 0.1987\n",
            "Epoch 30/50\n",
            "49/49 [==============================] - 0s 5ms/step - loss: 0.1743 - val_loss: 0.1974\n",
            "Epoch 31/50\n",
            "49/49 [==============================] - 0s 5ms/step - loss: 0.1734 - val_loss: 0.1972\n",
            "Epoch 32/50\n",
            "49/49 [==============================] - 0s 6ms/step - loss: 0.1731 - val_loss: 0.1978\n",
            "Epoch 33/50\n",
            "49/49 [==============================] - 0s 5ms/step - loss: 0.1724 - val_loss: 0.1987\n",
            "Epoch 34/50\n",
            "49/49 [==============================] - 0s 5ms/step - loss: 0.1723 - val_loss: 0.1993\n",
            "Epoch 35/50\n",
            "49/49 [==============================] - 0s 6ms/step - loss: 0.1718 - val_loss: 0.1989\n",
            "Epoch 36/50\n",
            "49/49 [==============================] - 0s 6ms/step - loss: 0.1714 - val_loss: 0.1986\n",
            "Epoch 37/50\n",
            "49/49 [==============================] - 0s 5ms/step - loss: 0.1710 - val_loss: 0.1991\n",
            "Epoch 38/50\n",
            "49/49 [==============================] - 0s 5ms/step - loss: 0.1702 - val_loss: 0.2015\n",
            "Epoch 39/50\n",
            "49/49 [==============================] - 0s 5ms/step - loss: 0.1708 - val_loss: 0.1985\n",
            "Epoch 40/50\n",
            "49/49 [==============================] - 0s 6ms/step - loss: 0.1698 - val_loss: 0.1995\n",
            "Epoch 41/50\n",
            "49/49 [==============================] - 0s 6ms/step - loss: 0.1689 - val_loss: 0.1994\n",
            "Epoch 42/50\n",
            "49/49 [==============================] - 0s 6ms/step - loss: 0.1687 - val_loss: 0.2005\n",
            "Epoch 43/50\n",
            "49/49 [==============================] - 0s 6ms/step - loss: 0.1687 - val_loss: 0.2017\n",
            "Epoch 44/50\n",
            "49/49 [==============================] - 0s 6ms/step - loss: 0.1680 - val_loss: 0.1998\n",
            "Epoch 45/50\n",
            "49/49 [==============================] - 0s 5ms/step - loss: 0.1676 - val_loss: 0.2004\n",
            "Epoch 46/50\n",
            "49/49 [==============================] - 0s 5ms/step - loss: 0.1675 - val_loss: 0.1996\n",
            "Epoch 47/50\n",
            "49/49 [==============================] - 0s 5ms/step - loss: 0.1664 - val_loss: 0.2023\n",
            "Epoch 48/50\n",
            "49/49 [==============================] - 0s 6ms/step - loss: 0.1664 - val_loss: 0.2015\n",
            "Epoch 49/50\n",
            "49/49 [==============================] - 0s 6ms/step - loss: 0.1674 - val_loss: 0.2013\n",
            "Epoch 50/50\n",
            "49/49 [==============================] - 0s 6ms/step - loss: 0.1662 - val_loss: 0.2014\n",
            "Minimum Validation Loss: 0.1937\n"
          ]
        },
        {
          "output_type": "display_data",
          "data": {
            "text/plain": [
              "<Figure size 640x480 with 1 Axes>"
            ],
            "image/png": "[encoded data removed]"
          },
          "metadata": {}
        }
      ]
    },
    {
      "cell_type": "markdown",
      "source": [
        "# 2) Add Capacity\n",
        "\n",
        "What is your evaluation of these curves? Underfitting, overfitting, just right?"
      ],
      "metadata": {
        "id": "tOxZ2FaB-KzR"
      }
    },
    {
      "cell_type": "markdown",
      "source": [
        "# 3) Define Early Stopping Callback\n",
        "\n",
        "Now define an early stopping callback that waits 5 epochs (`patience'`) for a change in validation loss of at least `0.001` (`min_delta`) and keeps the weights with the best loss (`restore_best_weights`)."
      ],
      "metadata": {
        "id": "HyJOnCnF-X19"
      }
    },
    {
      "cell_type": "code",
      "source": [
        "from tensorflow.keras import callbacks\n",
        "\n",
        "# YOUR CODE HERE: define an early stopping callback\n",
        "early_stopping = callbacks.EarlyStopping(\n",
        "    min_delta=0.001, # minimium amount of change to count as an improvement\n",
        "    patience=5, # how many epochs to wait before stopping\n",
        "    restore_best_weights=True,\n",
        ")"
      ],
      "metadata": {
        "id": "HTdfxhZi77xi"
      },
      "execution_count": 19,
      "outputs": []
    },
    {
      "cell_type": "markdown",
      "source": [
        "Now run this cell to train the model and get the learning curves. Notice the `callbacks` argument in `model.fit`."
      ],
      "metadata": {
        "id": "bs5Rn6LK-nX4"
      }
    },
    {
      "cell_type": "code",
      "source": [
        "model = keras.Sequential([\n",
        "    layers.Dense(128, activation='relu', input_shape=input_shape),\n",
        "    layers.Dense(64, activation='relu'),    \n",
        "    layers.Dense(1)\n",
        "])\n",
        "model.compile(\n",
        "    optimizer='adam',\n",
        "    loss='mae',\n",
        ")\n",
        "history = model.fit(\n",
        "    X_train, y_train,\n",
        "    validation_data=(X_valid, y_valid),\n",
        "    batch_size=512,\n",
        "    epochs=50,\n",
        "    callbacks=[early_stopping]\n",
        ")\n",
        "history_df = pd.DataFrame(history.history)\n",
        "history_df.loc[:, ['loss', 'val_loss']].plot()\n",
        "print(\"Minimum Validation Loss: {:0.4f}\".format(history_df['val_loss'].min()));"
      ],
      "metadata": {
        "colab": {
          "base_uri": "https://localhost:8080/",
          "height": 1000
        },
        "id": "k_XfMB__771G",
        "outputId": "7c033e5b-6b15-42d5-94f9-5c2d071cf326"
      },
      "execution_count": 20,
      "outputs": [
        {
          "output_type": "stream",
          "name": "stdout",
          "text": [
            "Epoch 1/50\n",
            "49/49 [==============================] - 1s 7ms/step - loss: 0.2551 - val_loss: 0.2088\n",
            "Epoch 2/50\n",
            "49/49 [==============================] - 0s 6ms/step - loss: 0.2037 - val_loss: 0.1998\n",
            "Epoch 3/50\n",
            "49/49 [==============================] - 0s 5ms/step - loss: 0.1982 - val_loss: 0.1981\n",
            "Epoch 4/50\n",
            "49/49 [==============================] - 0s 5ms/step - loss: 0.1954 - val_loss: 0.1958\n",
            "Epoch 5/50\n",
            "49/49 [==============================] - 0s 5ms/step - loss: 0.1929 - val_loss: 0.1947\n",
            "Epoch 6/50\n",
            "49/49 [==============================] - 0s 5ms/step - loss: 0.1910 - val_loss: 0.1948\n",
            "Epoch 7/50\n",
            "49/49 [==============================] - 0s 6ms/step - loss: 0.1899 - val_loss: 0.1943\n",
            "Epoch 8/50\n",
            "49/49 [==============================] - 0s 5ms/step - loss: 0.1884 - val_loss: 0.1939\n",
            "Epoch 9/50\n",
            "49/49 [==============================] - 0s 5ms/step - loss: 0.1874 - val_loss: 0.1944\n",
            "Epoch 10/50\n",
            "49/49 [==============================] - 0s 5ms/step - loss: 0.1866 - val_loss: 0.1932\n",
            "Epoch 11/50\n",
            "49/49 [==============================] - 0s 4ms/step - loss: 0.1859 - val_loss: 0.1940\n",
            "Epoch 12/50\n",
            "49/49 [==============================] - 0s 5ms/step - loss: 0.1853 - val_loss: 0.1958\n",
            "Epoch 13/50\n",
            "49/49 [==============================] - 0s 5ms/step - loss: 0.1843 - val_loss: 0.1939\n",
            "Epoch 14/50\n",
            "49/49 [==============================] - 0s 5ms/step - loss: 0.1831 - val_loss: 0.1932\n",
            "Epoch 15/50\n",
            "49/49 [==============================] - 0s 6ms/step - loss: 0.1822 - val_loss: 0.1935\n",
            "Minimum Validation Loss: 0.1932\n"
          ]
        },
        {
          "output_type": "display_data",
          "data": {
            "text/plain": [
              "<Figure size 640x480 with 1 Axes>"
            ],
            "image/png": "[encoded data removed]"
          },
          "metadata": {}
        }
      ]
    },
    {
      "cell_type": "markdown",
      "source": [
        "# 4) Train and Interpret\n",
        "\n",
        "Was this an improvement compared to training without early stopping?"
      ],
      "metadata": {
        "id": "sOBchyG5-xjm"
      }
    }
  ]
}